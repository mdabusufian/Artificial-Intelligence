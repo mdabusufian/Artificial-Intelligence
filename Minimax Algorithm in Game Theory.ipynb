{
 "cells": [
  {
   "cell_type": "code",
   "execution_count": 5,
   "id": "b0c6d7a8",
   "metadata": {},
   "outputs": [
    {
     "name": "stdout",
     "output_type": "stream",
     "text": [
      "The optimal value is : 5\n"
     ]
    }
   ],
   "source": [
    "MAX, MIN = 1000, -1000\n",
    "\n",
    "def minimax(depth, nodeIndex, maximizingPlayer,\n",
    "            values, alpha, beta):\n",
    "    if depth == 3:\n",
    "        return values[nodeIndex]\n",
    " \n",
    "    if maximizingPlayer:\n",
    "      \n",
    "        best = MIN\n",
    " \n",
    "\n",
    "        for i in range(0, 2):\n",
    "             \n",
    "            val = minimax(depth + 1, nodeIndex * 2 + i,\n",
    "                          False, values, alpha, beta)\n",
    "            best = max(best, val)\n",
    "            alpha = max(alpha, best)\n",
    " \n",
    "\n",
    "            if beta <= alpha:\n",
    "                break\n",
    "          \n",
    "        return best\n",
    "      \n",
    "    else:\n",
    "        best = MAX\n",
    "\n",
    "        for i in range(0, 2):\n",
    "          \n",
    "            val = minimax(depth + 1, nodeIndex * 2 + i,\n",
    "                            True, values, alpha, beta)\n",
    "            best = min(best, val)\n",
    "            beta = min(beta, best)\n",
    "            \n",
    "            if beta <= alpha:\n",
    "                break\n",
    "          \n",
    "        return best\n",
    "      \n",
    "if __name__ == \"__main__\":\n",
    "  \n",
    "    values = [3, 5, 6, 9, 1, 2, 0, -1] \n",
    "    print(\"The optimal value is :\", minimax(0, 0, True, values, MIN, MAX))\n",
    "     "
   ]
  },
  {
   "cell_type": "code",
   "execution_count": null,
   "id": "2b0c551b",
   "metadata": {},
   "outputs": [],
   "source": []
  }
 ],
 "metadata": {
  "kernelspec": {
   "display_name": "Python 3",
   "language": "python",
   "name": "python3"
  },
  "language_info": {
   "codemirror_mode": {
    "name": "ipython",
    "version": 3
   },
   "file_extension": ".py",
   "mimetype": "text/x-python",
   "name": "python",
   "nbconvert_exporter": "python",
   "pygments_lexer": "ipython3",
   "version": "3.8.8"
  }
 },
 "nbformat": 4,
 "nbformat_minor": 5
}
