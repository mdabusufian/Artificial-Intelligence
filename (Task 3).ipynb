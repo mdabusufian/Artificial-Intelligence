{
 "cells": [
  {
   "cell_type": "code",
   "execution_count": 1,
   "id": "5e6feec5",
   "metadata": {},
   "outputs": [
    {
     "name": "stdout",
     "output_type": "stream",
     "text": [
      "Inversion Count =  59\n",
      "This Puzzle is Not Solvable\n"
     ]
    }
   ],
   "source": [
    "def getInversionCount(array):\n",
    "    inversionCount = 0\n",
    "    empty_value = 0\n",
    "    for i in range(0, 16):\n",
    "        for j in range(i + 1, 16):\n",
    "            if array[j] != empty_value and array[i] != empty_value and array[i] > array[j]:\n",
    "                inversionCount += 1\n",
    "    return inversionCount\n",
    " \n",
    "def isSolvable(puzzle) :\n",
    " \n",
    "    inversionCount = getInversionCount([j for sub in puzzle for j in sub])\n",
    "    print(\"Inversion Count = \", inversionCount)\n",
    " \n",
    "    return (inversionCount % 2 == 0)\n",
    "     \n",
    "puzzle = [[13, 10, 11, 6], [5, 7, 4, 8], [1, 12, 14, 9], [3, 15, 2, 0]]\n",
    "\n",
    "if(isSolvable(puzzle)) :\n",
    "    print(\"This Puzzle is Solvable\")\n",
    "else :\n",
    "    print(\"This Puzzle is Not Solvable\")"
   ]
  },
  {
   "cell_type": "code",
   "execution_count": null,
   "id": "57373a2b",
   "metadata": {},
   "outputs": [],
   "source": []
  }
 ],
 "metadata": {
  "kernelspec": {
   "display_name": "Python 3",
   "language": "python",
   "name": "python3"
  },
  "language_info": {
   "codemirror_mode": {
    "name": "ipython",
    "version": 3
   },
   "file_extension": ".py",
   "mimetype": "text/x-python",
   "name": "python",
   "nbconvert_exporter": "python",
   "pygments_lexer": "ipython3",
   "version": "3.8.8"
  }
 },
 "nbformat": 4,
 "nbformat_minor": 5
}
