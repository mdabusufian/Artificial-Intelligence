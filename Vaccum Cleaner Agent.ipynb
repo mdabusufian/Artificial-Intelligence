{
 "cells": [
  {
   "cell_type": "code",
   "execution_count": 25,
   "id": "e71a1897",
   "metadata": {},
   "outputs": [
    {
     "name": "stdout",
     "output_type": "stream",
     "text": [
      "Complete History:  [('A', 'Dirty')]\n",
      "Suck\n",
      "Complete History:  [('A', 'Dirty'), ('A', 'Clean')]\n",
      "Right\n",
      "Complete History:  [('A', 'Dirty'), ('A', 'Clean'), ('B', 'Dirty')]\n",
      "Suck\n"
     ]
    }
   ],
   "source": [
    "import random\n",
    "\n",
    " \n",
    "\n",
    "location=['A','B']\n",
    "status=['Clean','Dirty']\n",
    "\n",
    " \n",
    "\n",
    "percepts = []\n",
    "\n",
    " \n",
    "\n",
    "table = {('A', 'Clean'): 'Right',\n",
    "        ('B', 'Dirty'): 'Suck',\n",
    "        ('B', 'Clean'): 'Left',\n",
    "        ('A', 'Dirty'): 'Suck'\n",
    "        }\n",
    "\n",
    " \n",
    "\n",
    "def table_agent(percept):\n",
    "    action=True\n",
    "    percepts.append(percept) # appending new data\n",
    "    print(\"Complete History: \", percepts)\n",
    "\n",
    " \n",
    "\n",
    "    if(action==True):\n",
    "        print(table[percept])\n",
    "    \n",
    "    else:\n",
    "        print(\"No Action\")  #lookup table_agent(percept)\n",
    "\n",
    " \n",
    "\n",
    "for _ in range(3):\n",
    "    \n",
    "    l=random.choice(location)\n",
    "    s=random.choice(status)\n",
    "\n",
    " \n",
    "\n",
    "    percept=(l,s)\n",
    "    table_agent(percept)\n"
   ]
  },
  {
   "cell_type": "code",
   "execution_count": null,
   "id": "08614012",
   "metadata": {},
   "outputs": [],
   "source": []
  },
  {
   "cell_type": "code",
   "execution_count": 30,
   "id": "b08e68da",
   "metadata": {},
   "outputs": [
    {
     "data": {
      "text/plain": [
       "'Suck'"
      ]
     },
     "execution_count": 30,
     "metadata": {},
     "output_type": "execute_result"
    }
   ],
   "source": [
    "import random\n",
    "\n",
    " \n",
    "\n",
    "location=['A','B']\n",
    "status=['Clean','Dirty']\n",
    "\n",
    " \n",
    "\n",
    "percepts = []\n",
    "\n",
    " \n",
    "\n",
    "table = {('A', 'Clean'): 'Right',\n",
    "        ('B', 'Dirty'): 'Suck',\n",
    "        ('B', 'Clean'): 'Left',\n",
    "        ('A', 'Dirty'): 'Suck'\n",
    "        }\n",
    "\n",
    " \n",
    "\n",
    "def program(location, status):\n",
    "    if status == 'Dirty': return 'Suck'\n",
    "    elif location == 'A': return 'Right'\n",
    "    elif location == 'B': return 'Left'\n",
    "\n",
    " \n",
    "\n",
    "for _ in range(3):\n",
    "    \n",
    "    l=random.choice(location)\n",
    "    s=random.choice(status)\n",
    "\n",
    " \n",
    "program(l, s)"
   ]
  },
  {
   "cell_type": "code",
   "execution_count": null,
   "id": "c8d44897",
   "metadata": {},
   "outputs": [],
   "source": []
  },
  {
   "cell_type": "code",
   "execution_count": 37,
   "id": "eff76b7b",
   "metadata": {},
   "outputs": [
    {
     "name": "stdout",
     "output_type": "stream",
     "text": [
      "Complete History:  [('A', 'Clean')]\n",
      "Right\n",
      "Complete History:  [('A', 'Clean'), ('B', 'Dirty')]\n",
      "Suck\n",
      "Complete History:  [('A', 'Clean'), ('B', 'Dirty'), ('B', 'Clean')]\n",
      "Left\n",
      "Complete History:  [('A', 'Clean'), ('B', 'Dirty'), ('B', 'Clean'), ('A', 'Dirty')]\n",
      "Suck\n"
     ]
    }
   ],
   "source": [
    "import random\n",
    "\n",
    " \n",
    "\n",
    "location=['A','B']\n",
    "status=['Clean','Dirty']\n",
    "\n",
    " \n",
    "\n",
    "percepts = []\n",
    "\n",
    " \n",
    "\n",
    "table = {('A', 'Clean'): 'Right',\n",
    "        ('B', 'Dirty'): 'Suck',\n",
    "        ('B', 'Clean'): 'Left',\n",
    "        ('A', 'Dirty'): 'Suck'\n",
    "        }\n",
    "\n",
    " \n",
    "\n",
    "def table_agent(percept):\n",
    "    action=True\n",
    "    percepts.append(percept) # appending new data\n",
    "    print(\"Complete History: \", percepts)\n",
    "\n",
    " \n",
    "\n",
    "    if(action==True):\n",
    "        print(table[percept])\n",
    "    \n",
    "    else:\n",
    "        print(\"No Action\")  #lookup table_agent(percept)\n",
    "\n",
    " \n",
    "\n",
    "for _ in range(4):\n",
    "    \n",
    "    l=random.choice(location)\n",
    "    s=random.choice(status)\n",
    "\n",
    " \n",
    "\n",
    "    percept=(l,s)\n",
    "    table_agent(percept)\n",
    "    \n",
    "    def ReflexVacuumAgent():\n",
    "\n",
    "        if status == 'Dirty':\n",
    "            return 'Suck'\n",
    "        elif location == A:\n",
    "            return 'Right'\n",
    "        elif location == B:\n",
    "            return 'Left'\n",
    "\n",
    "def ModelBasedAgent():\n",
    "    model = {A: None, B: None}\n",
    "    def program(percept):\n",
    "        location, status = percept\n",
    "        model[location] = status  # Update \n",
    "        if model[A] == model[B] == 'Clean':\n",
    "            return 'No Operation'\n",
    "        elif status == 'Dirty':\n",
    "            return 'Suck'\n",
    "        elif location == A:\n",
    "            return 'Right'\n",
    "        elif location == B:\n",
    "            return 'Left'"
   ]
  },
  {
   "cell_type": "code",
   "execution_count": null,
   "id": "78d6aa0d",
   "metadata": {},
   "outputs": [],
   "source": []
  },
  {
   "cell_type": "code",
   "execution_count": 18,
   "id": "3c97c326",
   "metadata": {
    "collapsed": true
   },
   "outputs": [
    {
     "name": "stdout",
     "output_type": "stream",
     "text": [
      "\f",
      "\n"
     ]
    }
   ],
   "source": []
  },
  {
   "cell_type": "code",
   "execution_count": null,
   "id": "600fa90e",
   "metadata": {},
   "outputs": [],
   "source": []
  }
 ],
 "metadata": {
  "kernelspec": {
   "display_name": "Python 3",
   "language": "python",
   "name": "python3"
  },
  "language_info": {
   "codemirror_mode": {
    "name": "ipython",
    "version": 3
   },
   "file_extension": ".py",
   "mimetype": "text/x-python",
   "name": "python",
   "nbconvert_exporter": "python",
   "pygments_lexer": "ipython3",
   "version": "3.8.8"
  }
 },
 "nbformat": 4,
 "nbformat_minor": 5
}
