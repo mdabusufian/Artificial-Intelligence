{
 "cells": [
  {
   "cell_type": "code",
   "execution_count": 14,
   "id": "0cf7db0e",
   "metadata": {},
   "outputs": [
    {
     "name": "stdout",
     "output_type": "stream",
     "text": [
      "Inversion Count =  11\n",
      "Not Solvable\n"
     ]
    }
   ],
   "source": [
    "def getInversionCount(arr):\n",
    "    inversionCount = 0\n",
    "    empty_value = 0\n",
    "    for i in range(0, 9):\n",
    "        for j in range(i + 1, 9):\n",
    "            if arr[j] != empty_value and arr[i] != empty_value and arr[i] > arr[j]:\n",
    "                inversionCount += 1\n",
    "    return inversionCount\n",
    " \n",
    "def isSolvable(puzzle) :\n",
    " \n",
    "    inversionCount = getInversionCount([j for sub in puzzle for j in sub])\n",
    "    print(\"Inversion Count = \", inversionCount)\n",
    " \n",
    "    return (inversionCount % 2 == 0)\n",
    "     \n",
    "puzzle = [[7, 1, 2], [5, 0, 4], [8, 3, 6]]\n",
    "if(isSolvable(puzzle)) :\n",
    "    print(\"This Puzzle is Solvable\")\n",
    "else :\n",
    "    print(\"Not Solvable\")"
   ]
  },
  {
   "cell_type": "code",
   "execution_count": null,
   "id": "e1987dcf",
   "metadata": {},
   "outputs": [],
   "source": []
  },
  {
   "cell_type": "code",
   "execution_count": null,
   "id": "d44624cd",
   "metadata": {},
   "outputs": [],
   "source": []
  },
  {
   "cell_type": "code",
   "execution_count": null,
   "id": "66a5d4e9",
   "metadata": {},
   "outputs": [],
   "source": []
  },
  {
   "cell_type": "code",
   "execution_count": null,
   "id": "e7e81c51",
   "metadata": {},
   "outputs": [],
   "source": []
  }
 ],
 "metadata": {
  "kernelspec": {
   "display_name": "Python 3",
   "language": "python",
   "name": "python3"
  },
  "language_info": {
   "codemirror_mode": {
    "name": "ipython",
    "version": 3
   },
   "file_extension": ".py",
   "mimetype": "text/x-python",
   "name": "python",
   "nbconvert_exporter": "python",
   "pygments_lexer": "ipython3",
   "version": "3.8.8"
  }
 },
 "nbformat": 4,
 "nbformat_minor": 5
}
